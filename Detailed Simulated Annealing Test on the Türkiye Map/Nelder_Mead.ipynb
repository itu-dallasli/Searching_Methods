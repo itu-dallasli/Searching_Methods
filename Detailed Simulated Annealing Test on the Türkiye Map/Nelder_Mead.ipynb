{
  "cells": [
    {
      "cell_type": "code",
      "execution_count": 2,
      "metadata": {
        "trusted": true
      },
      "outputs": [
        {
          "ename": "DriverError",
          "evalue": "TUR_adm1.shp: No such file or directory",
          "output_type": "error",
          "traceback": [
            "\u001b[1;31m---------------------------------------------------------------------------\u001b[0m",
            "\u001b[1;31mCPLE_OpenFailedError\u001b[0m                      Traceback (most recent call last)",
            "File \u001b[1;32mfiona\\\\ogrext.pyx:136\u001b[0m, in \u001b[0;36mfiona.ogrext.gdal_open_vector\u001b[1;34m()\u001b[0m\n",
            "File \u001b[1;32mfiona\\\\_err.pyx:291\u001b[0m, in \u001b[0;36mfiona._err.exc_wrap_pointer\u001b[1;34m()\u001b[0m\n",
            "\u001b[1;31mCPLE_OpenFailedError\u001b[0m: TUR_adm1.shp: No such file or directory",
            "\nDuring handling of the above exception, another exception occurred:\n",
            "\u001b[1;31mDriverError\u001b[0m                               Traceback (most recent call last)",
            "Cell \u001b[1;32mIn[2], line 11\u001b[0m\n\u001b[0;32m      7\u001b[0m \u001b[38;5;28;01mfrom\u001b[39;00m \u001b[38;5;21;01mshapely\u001b[39;00m\u001b[38;5;21;01m.\u001b[39;00m\u001b[38;5;21;01mgeometry\u001b[39;00m \u001b[38;5;28;01mimport\u001b[39;00m Point\n\u001b[0;32m      8\u001b[0m \u001b[38;5;66;03m######\u001b[39;00m\n\u001b[0;32m      9\u001b[0m \n\u001b[0;32m     10\u001b[0m \u001b[38;5;66;03m# Loading the map of Türkiye from a source that exists in GitHub\u001b[39;00m\n\u001b[1;32m---> 11\u001b[0m turkey_map \u001b[38;5;241m=\u001b[39m gpd\u001b[38;5;241m.\u001b[39mread_file(\u001b[38;5;124m\"\u001b[39m\u001b[38;5;124mTUR_adm1.shp\u001b[39m\u001b[38;5;124m\"\u001b[39m)\n\u001b[0;32m     12\u001b[0m turkey_boundary \u001b[38;5;241m=\u001b[39m turkey_map\u001b[38;5;241m.\u001b[39mgeometry\u001b[38;5;241m.\u001b[39munary_union  \u001b[38;5;66;03m# Get the boundary of Turkey as a single geometry\u001b[39;00m\n\u001b[0;32m     14\u001b[0m \u001b[38;5;66;03m# Definition of bounds for optimization \u001b[39;00m\n",
            "File \u001b[1;32mc:\\Users\\Emir\\anaconda3\\Lib\\site-packages\\geopandas\\io\\file.py:297\u001b[0m, in \u001b[0;36m_read_file\u001b[1;34m(filename, bbox, mask, rows, engine, **kwargs)\u001b[0m\n\u001b[0;32m    294\u001b[0m     \u001b[38;5;28;01melse\u001b[39;00m:\n\u001b[0;32m    295\u001b[0m         path_or_bytes \u001b[38;5;241m=\u001b[39m filename\n\u001b[1;32m--> 297\u001b[0m     \u001b[38;5;28;01mreturn\u001b[39;00m _read_file_fiona(\n\u001b[0;32m    298\u001b[0m         path_or_bytes, from_bytes, bbox\u001b[38;5;241m=\u001b[39mbbox, mask\u001b[38;5;241m=\u001b[39mmask, rows\u001b[38;5;241m=\u001b[39mrows, \u001b[38;5;241m*\u001b[39m\u001b[38;5;241m*\u001b[39mkwargs\n\u001b[0;32m    299\u001b[0m     )\n\u001b[0;32m    301\u001b[0m \u001b[38;5;28;01melse\u001b[39;00m:\n\u001b[0;32m    302\u001b[0m     \u001b[38;5;28;01mraise\u001b[39;00m \u001b[38;5;167;01mValueError\u001b[39;00m(\u001b[38;5;124mf\u001b[39m\u001b[38;5;124m\"\u001b[39m\u001b[38;5;124munknown engine \u001b[39m\u001b[38;5;124m'\u001b[39m\u001b[38;5;132;01m{\u001b[39;00mengine\u001b[38;5;132;01m}\u001b[39;00m\u001b[38;5;124m'\u001b[39m\u001b[38;5;124m\"\u001b[39m)\n",
            "File \u001b[1;32mc:\\Users\\Emir\\anaconda3\\Lib\\site-packages\\geopandas\\io\\file.py:338\u001b[0m, in \u001b[0;36m_read_file_fiona\u001b[1;34m(path_or_bytes, from_bytes, bbox, mask, rows, where, **kwargs)\u001b[0m\n\u001b[0;32m    335\u001b[0m     reader \u001b[38;5;241m=\u001b[39m fiona\u001b[38;5;241m.\u001b[39mopen\n\u001b[0;32m    337\u001b[0m \u001b[38;5;28;01mwith\u001b[39;00m fiona_env():\n\u001b[1;32m--> 338\u001b[0m     \u001b[38;5;28;01mwith\u001b[39;00m reader(path_or_bytes, \u001b[38;5;241m*\u001b[39m\u001b[38;5;241m*\u001b[39mkwargs) \u001b[38;5;28;01mas\u001b[39;00m features:\n\u001b[0;32m    339\u001b[0m         crs \u001b[38;5;241m=\u001b[39m features\u001b[38;5;241m.\u001b[39mcrs_wkt\n\u001b[0;32m    340\u001b[0m         \u001b[38;5;66;03m# attempt to get EPSG code\u001b[39;00m\n",
            "File \u001b[1;32mc:\\Users\\Emir\\anaconda3\\Lib\\site-packages\\fiona\\env.py:457\u001b[0m, in \u001b[0;36mensure_env_with_credentials.<locals>.wrapper\u001b[1;34m(*args, **kwds)\u001b[0m\n\u001b[0;32m    454\u001b[0m     session \u001b[38;5;241m=\u001b[39m DummySession()\n\u001b[0;32m    456\u001b[0m \u001b[38;5;28;01mwith\u001b[39;00m env_ctor(session\u001b[38;5;241m=\u001b[39msession):\n\u001b[1;32m--> 457\u001b[0m     \u001b[38;5;28;01mreturn\u001b[39;00m f(\u001b[38;5;241m*\u001b[39margs, \u001b[38;5;241m*\u001b[39m\u001b[38;5;241m*\u001b[39mkwds)\n",
            "File \u001b[1;32mc:\\Users\\Emir\\anaconda3\\Lib\\site-packages\\fiona\\__init__.py:305\u001b[0m, in \u001b[0;36mopen\u001b[1;34m(fp, mode, driver, schema, crs, encoding, layer, vfs, enabled_drivers, crs_wkt, allow_unsupported_drivers, **kwargs)\u001b[0m\n\u001b[0;32m    302\u001b[0m     path \u001b[38;5;241m=\u001b[39m parse_path(fp)\n\u001b[0;32m    304\u001b[0m \u001b[38;5;28;01mif\u001b[39;00m mode \u001b[38;5;129;01min\u001b[39;00m (\u001b[38;5;124m\"\u001b[39m\u001b[38;5;124ma\u001b[39m\u001b[38;5;124m\"\u001b[39m, \u001b[38;5;124m\"\u001b[39m\u001b[38;5;124mr\u001b[39m\u001b[38;5;124m\"\u001b[39m):\n\u001b[1;32m--> 305\u001b[0m     colxn \u001b[38;5;241m=\u001b[39m Collection(\n\u001b[0;32m    306\u001b[0m         path,\n\u001b[0;32m    307\u001b[0m         mode,\n\u001b[0;32m    308\u001b[0m         driver\u001b[38;5;241m=\u001b[39mdriver,\n\u001b[0;32m    309\u001b[0m         encoding\u001b[38;5;241m=\u001b[39mencoding,\n\u001b[0;32m    310\u001b[0m         layer\u001b[38;5;241m=\u001b[39mlayer,\n\u001b[0;32m    311\u001b[0m         enabled_drivers\u001b[38;5;241m=\u001b[39menabled_drivers,\n\u001b[0;32m    312\u001b[0m         allow_unsupported_drivers\u001b[38;5;241m=\u001b[39mallow_unsupported_drivers,\n\u001b[0;32m    313\u001b[0m         \u001b[38;5;241m*\u001b[39m\u001b[38;5;241m*\u001b[39mkwargs\n\u001b[0;32m    314\u001b[0m     )\n\u001b[0;32m    315\u001b[0m \u001b[38;5;28;01melif\u001b[39;00m mode \u001b[38;5;241m==\u001b[39m \u001b[38;5;124m\"\u001b[39m\u001b[38;5;124mw\u001b[39m\u001b[38;5;124m\"\u001b[39m:\n\u001b[0;32m    316\u001b[0m     colxn \u001b[38;5;241m=\u001b[39m Collection(\n\u001b[0;32m    317\u001b[0m         path,\n\u001b[0;32m    318\u001b[0m         mode,\n\u001b[1;32m   (...)\u001b[0m\n\u001b[0;32m    327\u001b[0m         \u001b[38;5;241m*\u001b[39m\u001b[38;5;241m*\u001b[39mkwargs\n\u001b[0;32m    328\u001b[0m     )\n",
            "File \u001b[1;32mc:\\Users\\Emir\\anaconda3\\Lib\\site-packages\\fiona\\collection.py:243\u001b[0m, in \u001b[0;36mCollection.__init__\u001b[1;34m(self, path, mode, driver, schema, crs, encoding, layer, vsi, archive, enabled_drivers, crs_wkt, ignore_fields, ignore_geometry, include_fields, wkt_version, allow_unsupported_drivers, **kwargs)\u001b[0m\n\u001b[0;32m    241\u001b[0m \u001b[38;5;28;01mif\u001b[39;00m \u001b[38;5;28mself\u001b[39m\u001b[38;5;241m.\u001b[39mmode \u001b[38;5;241m==\u001b[39m \u001b[38;5;124m\"\u001b[39m\u001b[38;5;124mr\u001b[39m\u001b[38;5;124m\"\u001b[39m:\n\u001b[0;32m    242\u001b[0m     \u001b[38;5;28mself\u001b[39m\u001b[38;5;241m.\u001b[39msession \u001b[38;5;241m=\u001b[39m Session()\n\u001b[1;32m--> 243\u001b[0m     \u001b[38;5;28mself\u001b[39m\u001b[38;5;241m.\u001b[39msession\u001b[38;5;241m.\u001b[39mstart(\u001b[38;5;28mself\u001b[39m, \u001b[38;5;241m*\u001b[39m\u001b[38;5;241m*\u001b[39mkwargs)\n\u001b[0;32m    244\u001b[0m \u001b[38;5;28;01melif\u001b[39;00m \u001b[38;5;28mself\u001b[39m\u001b[38;5;241m.\u001b[39mmode \u001b[38;5;129;01min\u001b[39;00m (\u001b[38;5;124m\"\u001b[39m\u001b[38;5;124ma\u001b[39m\u001b[38;5;124m\"\u001b[39m, \u001b[38;5;124m\"\u001b[39m\u001b[38;5;124mw\u001b[39m\u001b[38;5;124m\"\u001b[39m):\n\u001b[0;32m    245\u001b[0m     \u001b[38;5;28mself\u001b[39m\u001b[38;5;241m.\u001b[39msession \u001b[38;5;241m=\u001b[39m WritingSession()\n",
            "File \u001b[1;32mfiona\\\\ogrext.pyx:588\u001b[0m, in \u001b[0;36mfiona.ogrext.Session.start\u001b[1;34m()\u001b[0m\n",
            "File \u001b[1;32mfiona\\\\ogrext.pyx:143\u001b[0m, in \u001b[0;36mfiona.ogrext.gdal_open_vector\u001b[1;34m()\u001b[0m\n",
            "\u001b[1;31mDriverError\u001b[0m: TUR_adm1.shp: No such file or directory"
          ]
        }
      ],
      "source": [
        "#####\n",
        "# Imports and pulls that are necessary\n",
        "import geopandas as gpd\n",
        "import numpy as np\n",
        "import matplotlib.pyplot as plt\n",
        "from scipy.optimize import minimize\n",
        "from shapely.geometry import Point\n",
        "######\n",
        "\n",
        "# Loading the map of Türkiye from a source that exists in GitHub\n",
        "turkey_map = gpd.read_file(\"TUR_adm1.shp\")\n",
        "turkey_boundary = turkey_map.geometry.unary_union  # Get the boundary of Turkey as a single geometry\n",
        "\n",
        "# Definition of bounds for optimization \n",
        "minx, miny, maxx, maxy = turkey_map.total_bounds\n",
        "\n",
        "# Setting bounds for the optimization\n",
        "bounds = [(minx, maxx), (miny, maxy)]"
      ]
    },
    {
      "cell_type": "code",
      "execution_count": null,
      "metadata": {
        "trusted": true
      },
      "outputs": [],
      "source": []
    },
    {
      "cell_type": "code",
      "execution_count": null,
      "metadata": {
        "trusted": true
      },
      "outputs": [],
      "source": [
        "# Defining major cities with higher weights and their coordinate also with their coordinates and populations\n",
        "#\n",
        "major_cities = {\n",
        "    'Istanbul': {'population': 15462452, 'coords': (28.9784, 41.0082)},\n",
        "    'Izmir': {'population': 4367251, 'coords': (27.1428, 38.4237)},\n",
        "    'Ankara': {'population': 5445026, 'coords': (32.8597, 39.9334)},\n",
        "    'Bursa': {'population': 3056120, 'coords': (29.0611, 40.1828)},\n",
        "    'Adana': {'population': 2237940, 'coords': (35.3213, 37.0000)},\n",
        "    'Antalya': {'population': 2511700, 'coords': (30.7133, 36.8969)},\n",
        "    'Konya': {'population': 2232863, 'coords': (32.4846, 37.8714)},\n",
        "    'Kocaeli': {'population': 1970653, 'coords': (29.9336, 40.8533)},\n",
        "    'Sakarya': {'population': 1028982, 'coords': (30.4033, 40.7733)},\n",
        "    'Manisa': {'population': 1444770, 'coords': (27.4265, 38.6191)},\n",
        "    'Aydin': {'population': 1101585, 'coords': (27.8438, 37.8450)},\n",
        "    'Eskisehir': {'population': 888828, 'coords': (30.5256, 39.7767)},\n",
        "    'Balikesir': {'population': 1226108, 'coords': (27.8853, 39.6484)},\n",
        "    'Canakkale': {'population': 540662, 'coords': (26.4086, 40.1553)},\n",
        "    'Mersin': {'population': 1872686, 'coords': (34.6442, 36.8121)},\n",
        "    'Hatay': {'population': 1620466, 'coords': (36.1583, 36.1996)},\n",
        "    'Isparta': {'population': 444914, 'coords': (30.5533, 37.7648)},\n",
        "    'Burdur': {'population': 270796, 'coords': (30.2870, 37.7160)},\n",
        "    'Diyarbakir': {'population': 1732320, 'coords': (40.2316, 37.9250)},\n",
        "    'Van': {'population': 1127723, 'coords': (43.7348, 38.5012)},\n",
        "    'Batman': {'population': 626319, 'coords': (41.1392, 37.8812)},\n",
        "    'Gaziantep': {'population': 2097004, 'coords': (37.0662, 37.3833)},\n",
        "    'Kayseri': {'population': 1424520, 'coords': (35.4853, 38.7312)},\n",
        "    'Sanliurfa': {'population': 2117233, 'coords': (38.7928, 37.1671)},\n",
        "    'Erzurum': {'population': 760476, 'coords': (41.2769, 39.9042)},\n",
        "    'Malatya': {'population': 806156, 'coords': (38.3167, 38.3500)},\n",
        "    'Samsun': {'population': 1363055, 'coords': (36.3340, 41.2867)},\n",
        "    'Trabzon': {'population': 807903, 'coords': (39.7269, 41.0050)},\n",
        "    'Denizli': {'population': 1049453, 'coords': (29.0875, 37.7765)},\n",
        "    'Kahramanmaras': {'population': 1171432, 'coords': (36.9264, 37.5744)},\n",
        "    'Sivas': {'population': 638464, 'coords': (37.0161, 39.7477)},\n",
        "    'Elazig': {'population': 587960, 'coords': (39.2236, 38.6759)},\n",
        "    'Ordu': {'population': 761400, 'coords': (37.7698, 40.9833)},\n",
        "    'Aksaray': {'population': 429069, 'coords': (34.0297, 38.3686)},\n",
        "    'Afyon': {'population': 729483, 'coords': (30.5508, 38.7625)},\n",
        "    'Kirsehir': {'population': 243042, 'coords': (34.1614, 39.1458)},\n",
        "    'Karaman': {'population': 254919, 'coords': (33.2351, 37.1810)},\n",
        "    'Amasya': {'population': 337800, 'coords': (35.8365, 40.6536)},\n",
        "    'Yozgat': {'population': 418650, 'coords': (34.8150, 39.8181)},\n",
        "    'Zonguldak': {'population': 591204, 'coords': (31.7917, 41.4564)},\n",
        "    'Nevsehir': {'population': 304962, 'coords': (34.7120, 38.6244)},\n",
        "    'Mardin': {'population': 854716, 'coords': (40.7319, 37.3122)},\n",
        "    'Usak': {'population': 370509, 'coords': (29.4058, 38.6800)},\n",
        "    'Kilis': {'population': 142792, 'coords': (37.1181, 36.7161)},\n",
        "    'Siirt': {'population': 331070, 'coords': (41.9447, 37.9275)},\n",
        "    'Bitlis': {'population': 350021, 'coords': (42.1086, 38.3938)},\n",
        "    'Rize': {'population': 344359, 'coords': (40.5152, 41.0201)},\n",
        "    'Bartin': {'population': 198999, 'coords': (32.3375, 41.6358)},\n",
        "    'Bingol': {'population': 281768, 'coords': (40.5125, 38.8858)},\n",
        "    'Hakkari': {'population': 278218, 'coords': (43.7408, 37.5744)},\n",
        "    'Karabuk': {'population': 243614, 'coords': (32.6227, 41.2048)},\n",
        "    'Kars': {'population': 284923, 'coords': (43.0975, 40.6069)},\n",
        "    'Kastamonu': {'population': 379405, 'coords': (33.7753, 41.3887)},\n",
        "    'Kutahya': {'population': 578640, 'coords': (29.9708, 39.4214)},\n",
        "    'Osmaniye': {'population': 553012, 'coords': (36.2472, 37.0742)},\n",
        "    'Sinop': {'population': 218243, 'coords': (35.1553, 42.0267)},\n",
        "    'Sirnak': {'population': 537762, 'coords': (42.4642, 37.4187)},\n",
        "    'Tekirdag': {'population': 1086641, 'coords': (27.5167, 40.9833)},\n",
        "    'Tokat': {'population': 602086, 'coords': (36.5539, 40.3167)},\n",
        "    'Tunceli': {'population': 83193, 'coords': (39.5475, 39.1106)},\n",
        "    'Yalova': {'population': 276050, 'coords': (29.2769, 40.6556)},\n",
        "    'Duzce': {'population': 392166, 'coords': (31.1665, 40.8438)}\n",
        "}\n",
        "\n",
        "regions = {\n",
        "    'Doğu Anadolu': ['Erzurum', 'Van', 'Malatya', 'Elazig', 'Kars', 'Bitlis', 'Hakkari', 'Tunceli', 'Bingol', 'Agri', 'Igdir', 'Mus', 'Ardahan'],\n",
        "    'Ege': ['Izmir', 'Manisa', 'Aydin', 'Denizli', 'Mugla', 'Kütahya', 'Afyon', 'Usak'],\n",
        "    'Akdeniz': ['Antalya', 'Isparta', 'Burdur', 'Adana', 'Mersin', 'Hatay', 'Osmaniye', 'Kahramanmaraş'],\n",
        "    'Karadeniz': ['Samsun', 'Trabzon', 'Ordu', 'Rize', 'Giresun', 'Sinop', 'Artvin', 'Amasya', 'Tokat', 'Corum', 'Bartin', 'Kastamonu', 'Karabuk', 'Zonguldak', 'Bolu', 'Duzce'],\n",
        "    'Marmara': ['Istanbul', 'Kocaeli', 'Sakarya', 'Bursa', 'Balikesir', 'Canakkale', 'Tekirdag', 'Edirne', 'Kirklareli', 'Yalova', 'Bilecik'],\n",
        "    'Güneydoğu Anadolu': ['Diyarbakir', 'Gaziantep', 'Sanliurfa', 'Mardin', 'Batman', 'Siirt', 'Adiyaman', 'Kilis', 'Sirnak'],\n",
        "    'İç Anadolu': ['Ankara', 'Konya', 'Eskisehir', 'Kayseri', 'Sivas', 'Nigde', 'Aksaray', 'Kirikkale', 'Kirsehir', 'Nevsehir', 'Yozgat', 'Çankırı', 'Karaman']\n",
        "}"
      ]
    },
    {
      "cell_type": "code",
      "execution_count": null,
      "metadata": {
        "trusted": true
      },
      "outputs": [],
      "source": []
    },
    {
      "cell_type": "code",
      "execution_count": null,
      "metadata": {
        "trusted": true
      },
      "outputs": [],
      "source": [
        "# Normalizing population to use as weights between [0,1]\n",
        "#\n",
        "max_population = max(city['population'] for city in major_cities.values())\n",
        "min_population = min(city['population'] for city in major_cities.values())\n",
        "for city in major_cities.values():\n",
        "    city['weight'] = (city['population'] - min_population) / (max_population - min_population)"
      ]
    },
    {
      "cell_type": "code",
      "execution_count": null,
      "metadata": {
        "trusted": true
      },
      "outputs": [],
      "source": []
    },
    {
      "cell_type": "code",
      "execution_count": null,
      "metadata": {
        "trusted": true
      },
      "outputs": [],
      "source": [
        "# Creating a GeoDataFrame for each region\n",
        "#\n",
        "region_gdfs = {}\n",
        "for region, cities in regions.items():\n",
        "    data = []\n",
        "    for city in cities:\n",
        "        if city in major_cities:\n",
        "            weight = major_cities[city]['weight']\n",
        "            coords = major_cities[city]['coords']\n",
        "            geometry = Point(coords[0], coords[1])\n",
        "        data.append({'name': city, 'geometry': geometry, 'weights': weight})\n",
        "    region_gdf = gpd.GeoDataFrame(data, columns=['name', 'geometry', 'weights'])\n",
        "    region_gdfs[region] = region_gdf\n",
        "print(region_gdfs)"
      ]
    },
    {
      "cell_type": "code",
      "execution_count": null,
      "metadata": {
        "trusted": true
      },
      "outputs": [],
      "source": []
    },
    {
      "cell_type": "code",
      "execution_count": null,
      "metadata": {
        "trusted": true
      },
      "outputs": [],
      "source": [
        "# Defining the objective function for optimization\n",
        "#\n",
        "def objective_function(x, region_gdf):\n",
        "    total_cost = 0\n",
        "    total_satisfaction = 0\n",
        "\n",
        "    for _, row in region_gdf.iterrows():\n",
        "\n",
        "        centroid = row['geometry']\n",
        "        distance = np.sqrt((centroid.x - x[0])*2 + (centroid.y - x[1])*2)\n",
        "        total_cost += distance * row['weights']\n",
        "        total_satisfaction += row['weights'] / (distance + 1e-5)  # To avoid division by zero\n",
        "\n",
        "    # Combine cost and satisfaction into a single objective\n",
        "    # Here we balance them with equal weights; you can adjust these as needed\n",
        "    objective_value = total_cost - total_satisfaction\n",
        "\n",
        "    return objective_value\n"
      ]
    },
    {
      "cell_type": "code",
      "execution_count": null,
      "metadata": {
        "trusted": true
      },
      "outputs": [],
      "source": []
    },
    {
      "cell_type": "code",
      "execution_count": null,
      "metadata": {
        "trusted": true
      },
      "outputs": [],
      "source": [
        "# Constraint for ensuring points if they are Türkiye\n",
        "#\n",
        "def constraint_function(x):\n",
        "    point = Point(x[0], x[1])\n",
        "    return turkey_boundary.contains(point)"
      ]
    },
    {
      "cell_type": "code",
      "execution_count": null,
      "metadata": {
        "trusted": true
      },
      "outputs": [],
      "source": []
    },
    {
      "cell_type": "code",
      "execution_count": null,
      "metadata": {
        "trusted": true
      },
      "outputs": [],
      "source": [
        "# Custom Nelder-Mead optimization function with constraints and etc.\n",
        "#\n",
        "def constrained_nelder_mead(objective, x0, constraint, args=(), options=None):\n",
        "    def wrapped_objective(x):\n",
        "        if constraint(x):\n",
        "            return objective(x, *args)\n",
        "        else:\n",
        "            return np.inf  # Return a large number to penalize invalid solutions\n",
        "\n",
        "    result = minimize(wrapped_objective, x0, method='Nelder-Mead', options=options)\n",
        "    return result\n"
      ]
    },
    {
      "cell_type": "code",
      "execution_count": null,
      "metadata": {
        "trusted": true
      },
      "outputs": [],
      "source": []
    },
    {
      "cell_type": "code",
      "execution_count": null,
      "metadata": {
        "trusted": true
      },
      "outputs": [],
      "source": [
        "optimal_solutions = {}\n",
        "\n",
        "# Running optimization for each region and storing the optimal solutions for each region\n",
        "#\n",
        "for region, region_gdf in region_gdfs.items():\n",
        "    # Initial guess within the bounds\n",
        "    x0 = np.mean(np.array(bounds), axis=1)\n",
        "\n",
        "    # Run Nelder-Mead optimization\n",
        "    result = constrained_nelder_mead(objective_function, x0, constraint_function, args=(region_gdf,), options={'maxiter': 1000, 'xatol': 1e-5, 'fatol': 1e-5})\n",
        "    optimal_solutions[region] = result.x\n",
        "    print(f\"Optimal solution for {region}:\", result.x)\n"
      ]
    },
    {
      "cell_type": "code",
      "execution_count": null,
      "metadata": {
        "trusted": true
      },
      "outputs": [],
      "source": []
    },
    {
      "cell_type": "code",
      "execution_count": null,
      "metadata": {
        "trusted": true
      },
      "outputs": [],
      "source": [
        "# Plotting the optimal distribution points on the map\n",
        "#\n",
        "fig, ax = plt.subplots()\n",
        "turkey_map.plot(ax=ax, color='white', edgecolor='black')\n",
        "\n",
        "# Plot each region's cities and optimal point\n",
        "for region, region_gdf in region_gdfs.items():\n",
        "    region_gdf.plot(ax=ax, color='pink', markersize=10)\n",
        "    optimal_point = optimal_solutions[region]\n",
        "    ax.scatter(optimal_point[0], optimal_point[1], color='blue', marker='x', label=f'Optimal Point for {region}')\n",
        "\n",
        "plt.title(\"Optimal Distribution Points for Sanitizers in Each Region\")\n",
        "plt.legend()\n",
        "plt.show()"
      ]
    }
  ],
  "metadata": {
    "kernelspec": {
      "display_name": "base",
      "language": "python",
      "name": "python3"
    },
    "language_info": {
      "codemirror_mode": {
        "name": "ipython",
        "version": 3
      },
      "file_extension": ".py",
      "mimetype": "text/x-python",
      "name": "python",
      "nbconvert_exporter": "python",
      "pygments_lexer": "ipython3",
      "version": "3.11.5"
    }
  },
  "nbformat": 4,
  "nbformat_minor": 4
}
